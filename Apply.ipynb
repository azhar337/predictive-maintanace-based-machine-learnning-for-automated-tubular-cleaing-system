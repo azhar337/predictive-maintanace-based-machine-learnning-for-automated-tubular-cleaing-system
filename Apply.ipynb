{
 "cells": [
  {
   "cell_type": "code",
   "execution_count": 2,
   "metadata": {},
   "outputs": [],
   "source": [
    "import pickle\n",
    "model = pickle.load(open(\"rsf_model.sav\", 'rb'))"
   ]
  },
  {
   "cell_type": "code",
   "execution_count": 3,
   "metadata": {},
   "outputs": [
    {
     "name": "stdout",
     "output_type": "stream",
     "text": [
      "Voltage:1\n",
      "A_current:1\n",
      "A_displacement:1\n",
      "torque:1\n",
      "A_velocity:1\n",
      "bemf:1\n"
     ]
    }
   ],
   "source": [
    "voltage= float(input(\"Voltage:\"))\n",
    "a_current= float(input(\"A_current:\"))\n",
    "a_displacement= float(input(\"A_displacement:\"))\n",
    "torque= float(input(\"torque:\"))\n",
    "a_velocity= float(input(\"A_velocity:\"))\n",
    "bemf= float(input(\"bemf:\"))"
   ]
  },
  {
   "cell_type": "code",
   "execution_count": 5,
   "metadata": {},
   "outputs": [
    {
     "data": {
      "text/plain": [
       "(1, 6)"
      ]
     },
     "execution_count": 5,
     "metadata": {},
     "output_type": "execute_result"
    }
   ],
   "source": [
    "import numpy\n",
    "a = numpy.array([])\n",
    "newArray = numpy.append (a, [voltage, a_current, a_displacement,torque,a_velocity,bemf ])\n",
    "y = numpy.expand_dims(newArray, axis=0)\n",
    "y.shape"
   ]
  },
  {
   "cell_type": "code",
   "execution_count": 32,
   "metadata": {},
   "outputs": [],
   "source": [
    "y_pred=model.predict(y)"
   ]
  },
  {
   "cell_type": "code",
   "execution_count": 39,
   "metadata": {},
   "outputs": [
    {
     "name": "stdout",
     "output_type": "stream",
     "text": [
      "The machine is failing\n"
     ]
    }
   ],
   "source": [
    "if y_pred[0]==1:\n",
    "    print (\"The machine is failing\")\n",
    "else:\n",
    "    print(\"normal\")"
   ]
  }
 ],
 "metadata": {
  "kernelspec": {
   "display_name": "Python 3",
   "language": "python",
   "name": "python3"
  },
  "language_info": {
   "codemirror_mode": {
    "name": "ipython",
    "version": 3
   },
   "file_extension": ".py",
   "mimetype": "text/x-python",
   "name": "python",
   "nbconvert_exporter": "python",
   "pygments_lexer": "ipython3",
   "version": "3.7.9"
  }
 },
 "nbformat": 4,
 "nbformat_minor": 4
}
