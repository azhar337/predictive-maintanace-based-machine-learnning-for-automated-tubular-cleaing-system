{
 "cells": [
  {
   "cell_type": "raw",
   "metadata": {},
   "source": [
    "from sklearn.model_selection import train_test_split\n",
    "%store -r X\n",
    "%store -r y "
   ]
  },
  {
   "cell_type": "code",
   "execution_count": 11,
   "metadata": {},
   "outputs": [],
   "source": [
    "X_train, X_test, y_train, y_test = train_test_split(X, y, test_size=0.8)"
   ]
  },
  {
   "cell_type": "code",
   "execution_count": 2,
   "metadata": {},
   "outputs": [
    {
     "name": "stdout",
     "output_type": "stream",
     "text": [
      "Model: \"sequential_1\"\n",
      "_________________________________________________________________\n",
      "Layer (type)                 Output Shape              Param #   \n",
      "=================================================================\n",
      "dense_3 (Dense)              (None, 4)                 28        \n",
      "_________________________________________________________________\n",
      "dense_4 (Dense)              (None, 4)                 20        \n",
      "_________________________________________________________________\n",
      "dense_5 (Dense)              (None, 1)                 5         \n",
      "=================================================================\n",
      "Total params: 53\n",
      "Trainable params: 53\n",
      "Non-trainable params: 0\n",
      "_________________________________________________________________\n"
     ]
    }
   ],
   "source": [
    "from numpy import loadtxt\n",
    "from keras.models import Sequential\n",
    "from keras.layers import Dense\n",
    "\n",
    "model = Sequential()\n",
    "model.add(Dense(4, activation='relu', kernel_initializer='random_normal', input_dim=6))\n",
    "model.add(Dense(4, activation='relu', kernel_initializer='random_normal'))\n",
    "model.add(Dense(1, activation='sigmoid', kernel_initializer='random_normal'))\n",
    "model.summary()"
   ]
  },
  {
   "cell_type": "code",
   "execution_count": 14,
   "metadata": {
    "scrolled": true
   },
   "outputs": [
    {
     "name": "stdout",
     "output_type": "stream",
     "text": [
      "Epoch 1/100\n",
      "694/694 [==============================] - 1s 1ms/step - loss: 0.2304 - accuracy: 0.9115\n",
      "Epoch 2/100\n",
      "694/694 [==============================] - 1s 1ms/step - loss: 0.2185 - accuracy: 0.9101\n",
      "Epoch 3/100\n",
      "694/694 [==============================] - 1s 1ms/step - loss: 0.2123 - accuracy: 0.9152\n",
      "Epoch 4/100\n",
      "694/694 [==============================] - 1s 1ms/step - loss: 0.2089 - accuracy: 0.9148\n",
      "Epoch 5/100\n",
      "694/694 [==============================] - 1s 1ms/step - loss: 0.2138 - accuracy: 0.9144\n",
      "Epoch 6/100\n",
      "694/694 [==============================] - 1s 1ms/step - loss: 0.2106 - accuracy: 0.9166\n",
      "Epoch 7/100\n",
      "694/694 [==============================] - 1s 1ms/step - loss: 0.2119 - accuracy: 0.9138\n",
      "Epoch 8/100\n",
      "694/694 [==============================] - 1s 1ms/step - loss: 0.2064 - accuracy: 0.9177\n",
      "Epoch 9/100\n",
      "694/694 [==============================] - 1s 1ms/step - loss: 0.2137 - accuracy: 0.9101\n",
      "Epoch 10/100\n",
      "694/694 [==============================] - 1s 1ms/step - loss: 0.2075 - accuracy: 0.9140\n",
      "Epoch 11/100\n",
      "694/694 [==============================] - 1s 1ms/step - loss: 0.2034 - accuracy: 0.9167\n",
      "Epoch 12/100\n",
      "694/694 [==============================] - 1s 1ms/step - loss: 0.2111 - accuracy: 0.9143\n",
      "Epoch 13/100\n",
      "694/694 [==============================] - 1s 1ms/step - loss: 0.2047 - accuracy: 0.9162\n",
      "Epoch 14/100\n",
      "694/694 [==============================] - 1s 1ms/step - loss: 0.2106 - accuracy: 0.9135\n",
      "Epoch 15/100\n",
      "694/694 [==============================] - 1s 1ms/step - loss: 0.2183 - accuracy: 0.9098\n",
      "Epoch 16/100\n",
      "694/694 [==============================] - 1s 1ms/step - loss: 0.2078 - accuracy: 0.9183\n",
      "Epoch 17/100\n",
      "694/694 [==============================] - 1s 1ms/step - loss: 0.2053 - accuracy: 0.9103\n",
      "Epoch 18/100\n",
      "694/694 [==============================] - 1s 1ms/step - loss: 0.1904 - accuracy: 0.9244\n",
      "Epoch 19/100\n",
      "694/694 [==============================] - 1s 1ms/step - loss: 0.1995 - accuracy: 0.9205\n",
      "Epoch 20/100\n",
      "694/694 [==============================] - ETA: 0s - loss: 0.2129 - accuracy: 0.91 - 1s 1ms/step - loss: 0.2127 - accuracy: 0.9106\n",
      "Epoch 21/100\n",
      "694/694 [==============================] - 1s 1ms/step - loss: 0.2041 - accuracy: 0.9144\n",
      "Epoch 22/100\n",
      "694/694 [==============================] - 1s 1ms/step - loss: 0.2030 - accuracy: 0.9142\n",
      "Epoch 23/100\n",
      "694/694 [==============================] - 1s 1ms/step - loss: 0.2037 - accuracy: 0.9123\n",
      "Epoch 24/100\n",
      "694/694 [==============================] - 1s 1ms/step - loss: 0.1948 - accuracy: 0.9235\n",
      "Epoch 25/100\n",
      "694/694 [==============================] - 1s 1ms/step - loss: 0.2070 - accuracy: 0.9138\n",
      "Epoch 26/100\n",
      "694/694 [==============================] - 1s 1ms/step - loss: 0.2045 - accuracy: 0.9149\n",
      "Epoch 27/100\n",
      "694/694 [==============================] - 1s 1ms/step - loss: 0.2092 - accuracy: 0.9151\n",
      "Epoch 28/100\n",
      "694/694 [==============================] - 1s 1ms/step - loss: 0.2002 - accuracy: 0.9172\n",
      "Epoch 29/100\n",
      "694/694 [==============================] - 1s 1ms/step - loss: 0.2005 - accuracy: 0.9173\n",
      "Epoch 30/100\n",
      "694/694 [==============================] - 1s 1ms/step - loss: 0.2021 - accuracy: 0.9112\n",
      "Epoch 31/100\n",
      "694/694 [==============================] - 1s 1ms/step - loss: 0.1977 - accuracy: 0.9180\n",
      "Epoch 32/100\n",
      "694/694 [==============================] - 1s 1ms/step - loss: 0.2064 - accuracy: 0.9158\n",
      "Epoch 33/100\n",
      "694/694 [==============================] - 1s 1ms/step - loss: 0.1924 - accuracy: 0.9224\n",
      "Epoch 34/100\n",
      "694/694 [==============================] - 1s 1ms/step - loss: 0.1962 - accuracy: 0.9234\n",
      "Epoch 35/100\n",
      "694/694 [==============================] - 1s 1ms/step - loss: 0.1917 - accuracy: 0.9192\n",
      "Epoch 36/100\n",
      "694/694 [==============================] - 1s 1ms/step - loss: 0.1953 - accuracy: 0.9182\n",
      "Epoch 37/100\n",
      "694/694 [==============================] - 1s 1ms/step - loss: 0.1970 - accuracy: 0.9199\n",
      "Epoch 38/100\n",
      "694/694 [==============================] - 1s 1ms/step - loss: 0.1906 - accuracy: 0.9248\n",
      "Epoch 39/100\n",
      "694/694 [==============================] - 1s 1ms/step - loss: 0.2046 - accuracy: 0.9124\n",
      "Epoch 40/100\n",
      "694/694 [==============================] - 1s 1ms/step - loss: 0.2005 - accuracy: 0.9173\n",
      "Epoch 41/100\n",
      "694/694 [==============================] - 1s 1ms/step - loss: 0.1970 - accuracy: 0.9178\n",
      "Epoch 42/100\n",
      "694/694 [==============================] - 1s 1ms/step - loss: 0.1982 - accuracy: 0.9165\n",
      "Epoch 43/100\n",
      "694/694 [==============================] - 1s 1ms/step - loss: 0.2005 - accuracy: 0.9150\n",
      "Epoch 44/100\n",
      "694/694 [==============================] - 1s 1ms/step - loss: 0.1966 - accuracy: 0.9176\n",
      "Epoch 45/100\n",
      "694/694 [==============================] - 1s 1ms/step - loss: 0.1952 - accuracy: 0.9199\n",
      "Epoch 46/100\n",
      "694/694 [==============================] - 1s 1ms/step - loss: 0.1988 - accuracy: 0.9131\n",
      "Epoch 47/100\n",
      "694/694 [==============================] - 1s 1ms/step - loss: 0.1999 - accuracy: 0.9154\n",
      "Epoch 48/100\n",
      "694/694 [==============================] - 1s 1ms/step - loss: 0.1981 - accuracy: 0.9169\n",
      "Epoch 49/100\n",
      "694/694 [==============================] - 1s 1ms/step - loss: 0.1968 - accuracy: 0.9174\n",
      "Epoch 50/100\n",
      "694/694 [==============================] - 1s 1ms/step - loss: 0.2001 - accuracy: 0.9160\n",
      "Epoch 51/100\n",
      "694/694 [==============================] - 1s 1ms/step - loss: 0.2006 - accuracy: 0.9137\n",
      "Epoch 52/100\n",
      "694/694 [==============================] - 1s 1ms/step - loss: 0.2065 - accuracy: 0.9084\n",
      "Epoch 53/100\n",
      "694/694 [==============================] - 1s 1ms/step - loss: 0.2033 - accuracy: 0.9161\n",
      "Epoch 54/100\n",
      "694/694 [==============================] - 1s 1ms/step - loss: 0.1980 - accuracy: 0.9175\n",
      "Epoch 55/100\n",
      "694/694 [==============================] - 1s 1ms/step - loss: 0.2035 - accuracy: 0.9150\n",
      "Epoch 56/100\n",
      "694/694 [==============================] - 1s 1ms/step - loss: 0.1979 - accuracy: 0.9147\n",
      "Epoch 57/100\n",
      "694/694 [==============================] - 1s 1ms/step - loss: 0.1901 - accuracy: 0.9207\n",
      "Epoch 58/100\n",
      "694/694 [==============================] - 1s 1ms/step - loss: 0.2039 - accuracy: 0.9106\n",
      "Epoch 59/100\n",
      "694/694 [==============================] - 1s 1ms/step - loss: 0.2046 - accuracy: 0.9119\n",
      "Epoch 60/100\n",
      "694/694 [==============================] - 1s 1ms/step - loss: 0.1964 - accuracy: 0.9173\n",
      "Epoch 61/100\n",
      "694/694 [==============================] - 1s 1ms/step - loss: 0.2005 - accuracy: 0.9141\n",
      "Epoch 62/100\n",
      "694/694 [==============================] - 1s 1ms/step - loss: 0.2032 - accuracy: 0.9105\n",
      "Epoch 63/100\n",
      "694/694 [==============================] - 1s 1ms/step - loss: 0.1996 - accuracy: 0.9145\n",
      "Epoch 64/100\n",
      "694/694 [==============================] - 1s 1ms/step - loss: 0.1983 - accuracy: 0.9139\n",
      "Epoch 65/100\n",
      "694/694 [==============================] - 1s 1ms/step - loss: 0.1974 - accuracy: 0.9182\n",
      "Epoch 66/100\n",
      "694/694 [==============================] - 1s 1ms/step - loss: 0.2027 - accuracy: 0.9140\n",
      "Epoch 67/100\n",
      "694/694 [==============================] - 1s 1ms/step - loss: 0.1970 - accuracy: 0.9161\n",
      "Epoch 68/100\n",
      "694/694 [==============================] - 1s 1ms/step - loss: 0.2044 - accuracy: 0.9137\n",
      "Epoch 69/100\n",
      "694/694 [==============================] - 1s 1ms/step - loss: 0.2050 - accuracy: 0.9104\n",
      "Epoch 70/100\n",
      "694/694 [==============================] - 1s 1ms/step - loss: 0.2072 - accuracy: 0.9136\n",
      "Epoch 71/100\n",
      "694/694 [==============================] - 1s 1ms/step - loss: 0.1939 - accuracy: 0.9172\n",
      "Epoch 72/100\n",
      "694/694 [==============================] - 1s 1ms/step - loss: 0.2000 - accuracy: 0.9155\n",
      "Epoch 73/100\n",
      "694/694 [==============================] - 1s 1ms/step - loss: 0.2040 - accuracy: 0.9131\n",
      "Epoch 74/100\n",
      "694/694 [==============================] - 1s 1ms/step - loss: 0.2045 - accuracy: 0.9116\n",
      "Epoch 75/100\n",
      "694/694 [==============================] - 1s 1ms/step - loss: 0.2046 - accuracy: 0.9112\n",
      "Epoch 76/100\n",
      "694/694 [==============================] - 1s 1ms/step - loss: 0.1939 - accuracy: 0.9182\n",
      "Epoch 77/100\n",
      "694/694 [==============================] - 1s 1ms/step - loss: 0.2043 - accuracy: 0.9097\n",
      "Epoch 78/100\n",
      "694/694 [==============================] - 1s 1ms/step - loss: 0.2036 - accuracy: 0.9124\n",
      "Epoch 79/100\n",
      "694/694 [==============================] - 1s 1ms/step - loss: 0.2096 - accuracy: 0.9133\n",
      "Epoch 80/100\n",
      "694/694 [==============================] - 1s 1ms/step - loss: 0.2130 - accuracy: 0.9061\n"
     ]
    },
    {
     "name": "stdout",
     "output_type": "stream",
     "text": [
      "Epoch 81/100\n",
      "694/694 [==============================] - 1s 1ms/step - loss: 0.1950 - accuracy: 0.9169\n",
      "Epoch 82/100\n",
      "694/694 [==============================] - 1s 1ms/step - loss: 0.2029 - accuracy: 0.9117\n",
      "Epoch 83/100\n",
      "694/694 [==============================] - 1s 1ms/step - loss: 0.1960 - accuracy: 0.9150\n",
      "Epoch 84/100\n",
      "694/694 [==============================] - 1s 997us/step - loss: 0.2015 - accuracy: 0.9145\n",
      "Epoch 85/100\n",
      "694/694 [==============================] - 1s 1ms/step - loss: 0.1979 - accuracy: 0.9137\n",
      "Epoch 86/100\n",
      "694/694 [==============================] - 1s 996us/step - loss: 0.1930 - accuracy: 0.9194\n",
      "Epoch 87/100\n",
      "694/694 [==============================] - 1s 1ms/step - loss: 0.1922 - accuracy: 0.9198\n",
      "Epoch 88/100\n",
      "694/694 [==============================] - 1s 1ms/step - loss: 0.2030 - accuracy: 0.9127\n",
      "Epoch 89/100\n",
      "694/694 [==============================] - 1s 999us/step - loss: 0.1941 - accuracy: 0.9178\n",
      "Epoch 90/100\n",
      "694/694 [==============================] - 1s 1ms/step - loss: 0.1984 - accuracy: 0.9176\n",
      "Epoch 91/100\n",
      "694/694 [==============================] - 1s 1ms/step - loss: 0.1877 - accuracy: 0.9227\n",
      "Epoch 92/100\n",
      "694/694 [==============================] - 1s 1ms/step - loss: 0.1964 - accuracy: 0.9155\n",
      "Epoch 93/100\n",
      "694/694 [==============================] - 1s 1ms/step - loss: 0.2002 - accuracy: 0.9118\n",
      "Epoch 94/100\n",
      "694/694 [==============================] - 1s 1ms/step - loss: 0.2063 - accuracy: 0.9145\n",
      "Epoch 95/100\n",
      "694/694 [==============================] - 1s 1ms/step - loss: 0.2013 - accuracy: 0.9130\n",
      "Epoch 96/100\n",
      "694/694 [==============================] - 1s 1ms/step - loss: 0.1949 - accuracy: 0.9180\n",
      "Epoch 97/100\n",
      "694/694 [==============================] - 1s 1ms/step - loss: 0.1914 - accuracy: 0.9170\n",
      "Epoch 98/100\n",
      "694/694 [==============================] - 1s 1ms/step - loss: 0.2030 - accuracy: 0.9123\n",
      "Epoch 99/100\n",
      "694/694 [==============================] - 1s 1ms/step - loss: 0.1917 - accuracy: 0.9180\n",
      "Epoch 100/100\n",
      "694/694 [==============================] - 1s 1ms/step - loss: 0.1894 - accuracy: 0.9201\n"
     ]
    },
    {
     "data": {
      "text/plain": [
       "<tensorflow.python.keras.callbacks.History at 0x10bd40a3e08>"
      ]
     },
     "execution_count": 14,
     "metadata": {},
     "output_type": "execute_result"
    }
   ],
   "source": [
    "model.compile(loss='binary_crossentropy', optimizer='adam', metrics=['accuracy'])\n",
    "model.fit(X_train, y_train, epochs=100, batch_size=10)"
   ]
  },
  {
   "cell_type": "code",
   "execution_count": 15,
   "metadata": {},
   "outputs": [],
   "source": [
    "y_pred=model.predict(X_test)\n",
    "y_pred =(y_pred>0.5)"
   ]
  },
  {
   "cell_type": "code",
   "execution_count": 16,
   "metadata": {},
   "outputs": [
    {
     "name": "stdout",
     "output_type": "stream",
     "text": [
      "[[12737  2578]\n",
      " [   44 12396]]\n"
     ]
    }
   ],
   "source": [
    "from sklearn.metrics import confusion_matrix\n",
    "cm = confusion_matrix(y_test, y_pred)\n",
    "print(cm)"
   ]
  },
  {
   "cell_type": "code",
   "execution_count": 17,
   "metadata": {},
   "outputs": [
    {
     "name": "stdout",
     "output_type": "stream",
     "text": [
      "accuracy:  0.9055305350387317   precision: 0.8316682990532158\n"
     ]
    }
   ],
   "source": [
    "accuracy = (cm[0][0]+cm[1][1])/(cm[0][0]+cm[0][1]+cm[1][0]+cm[1][1])\n",
    "precision= (cm[0][0])/(cm[0][0]+cm[0][1])\n",
    "print (\"accuracy: \",accuracy, \"  precision:\",precision)"
   ]
  },
  {
   "cell_type": "code",
   "execution_count": 28,
   "metadata": {},
   "outputs": [],
   "source": [
    "from keras.models import model_from_yaml\n",
    "model_yaml = model.to_yaml()\n",
    "with open(\"model.yaml\", \"w\") as yaml_file:\n",
    "    yaml_file.write(model_yaml)\n",
    "    \n",
    "model.save_weights(\"dense_model.h5\")"
   ]
  }
 ],
 "metadata": {
  "kernelspec": {
   "display_name": "Python 3",
   "language": "python",
   "name": "python3"
  },
  "language_info": {
   "codemirror_mode": {
    "name": "ipython",
    "version": 3
   },
   "file_extension": ".py",
   "mimetype": "text/x-python",
   "name": "python",
   "nbconvert_exporter": "python",
   "pygments_lexer": "ipython3",
   "version": "3.7.9"
  }
 },
 "nbformat": 4,
 "nbformat_minor": 4
}
