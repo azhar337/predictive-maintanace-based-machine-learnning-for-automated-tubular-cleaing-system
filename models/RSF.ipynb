{
 "cells": [
  {
   "cell_type": "code",
   "execution_count": 2,
   "metadata": {},
   "outputs": [],
   "source": [
    "%store -r X\n",
    "%store -r y "
   ]
  },
  {
   "cell_type": "code",
   "execution_count": 3,
   "metadata": {},
   "outputs": [],
   "source": [
    "from sklearn.model_selection import train_test_split\n",
    "X_train, X_test, y_train, y_test = train_test_split(X, y, test_size=0.8)"
   ]
  },
  {
   "cell_type": "code",
   "execution_count": 4,
   "metadata": {},
   "outputs": [
    {
     "data": {
      "text/plain": [
       "RandomForestClassifier(n_estimators=10)"
      ]
     },
     "execution_count": 4,
     "metadata": {},
     "output_type": "execute_result"
    }
   ],
   "source": [
    "from sklearn.ensemble import RandomForestClassifier\n",
    "\n",
    "model_rsf=RandomForestClassifier(n_estimators=10)\n",
    "model_rsf.fit(X_train,y_train)"
   ]
  },
  {
   "cell_type": "code",
   "execution_count": 7,
   "metadata": {},
   "outputs": [
    {
     "data": {
      "text/plain": [
       "array([[ 4.23855331e-01, -5.86055118e-02, -7.31379019e-01,\n",
       "        -5.86055118e-02,  4.36199051e-01,  4.36199051e-01],\n",
       "       [-9.37701429e-01, -5.66277709e-02, -7.82514260e-01,\n",
       "        -5.66277709e-02, -8.28813445e-01, -8.28813445e-01],\n",
       "       [ 4.23855331e-01,  2.14282939e+01, -8.69304570e-01,\n",
       "         2.14282939e+01, -3.79368095e+00, -3.79368095e+00],\n",
       "       ...,\n",
       "       [ 4.23855331e-01, -4.29123578e-02, -6.15687183e-01,\n",
       "        -4.29123578e-02,  4.12481037e-01,  4.12481038e-01],\n",
       "       [-4.83849175e-01, -4.10938467e-02, -6.51796024e-01,\n",
       "        -4.10938467e-02, -4.19969647e-01, -4.19969647e-01],\n",
       "       [ 4.23855331e-01, -6.07199850e-02,  8.40140987e-03,\n",
       "        -6.07199850e-02,  4.26841607e-01,  4.26841607e-01]])"
      ]
     },
     "execution_count": 7,
     "metadata": {},
     "output_type": "execute_result"
    }
   ],
   "source": [
    "y_pred=model_rsf.predict(X_test)\n",
    "X_test"
   ]
  },
  {
   "cell_type": "code",
   "execution_count": 5,
   "metadata": {},
   "outputs": [
    {
     "name": "stdout",
     "output_type": "stream",
     "text": [
      "[[14908   310]\n",
      " [  303 12234]]\n"
     ]
    }
   ],
   "source": [
    "from sklearn.metrics import confusion_matrix\n",
    "cm = confusion_matrix(y_test, y_pred)\n",
    "print(cm)"
   ]
  },
  {
   "cell_type": "code",
   "execution_count": 6,
   "metadata": {},
   "outputs": [
    {
     "name": "stdout",
     "output_type": "stream",
     "text": [
      "accuracy:  0.9779138893892992   precision: 0.9796293862531213\n"
     ]
    }
   ],
   "source": [
    "accuracy = (cm[0][0]+cm[1][1])/(cm[0][0]+cm[0][1]+cm[1][0]+cm[1][1])\n",
    "precision= (cm[0][0])/(cm[0][0]+cm[0][1])\n",
    "print (\"accuracy: \",accuracy, \"  precision:\",precision)"
   ]
  },
  {
   "cell_type": "code",
   "execution_count": 25,
   "metadata": {},
   "outputs": [],
   "source": [
    "import pickle\n",
    "filename = 'rsf_model.sav'\n",
    "pickle.dump(model_rsf, open(filename, 'wb'))"
   ]
  },
  {
   "cell_type": "code",
   "execution_count": 10,
   "metadata": {},
   "outputs": [
    {
     "data": {
      "text/plain": [
       "(27755, 6)"
      ]
     },
     "execution_count": 10,
     "metadata": {},
     "output_type": "execute_result"
    }
   ],
   "source": [
    "X_test.shape"
   ]
  },
  {
   "cell_type": "code",
   "execution_count": null,
   "metadata": {},
   "outputs": [],
   "source": []
  }
 ],
 "metadata": {
  "kernelspec": {
   "display_name": "Python 3",
   "language": "python",
   "name": "python3"
  },
  "language_info": {
   "codemirror_mode": {
    "name": "ipython",
    "version": 3
   },
   "file_extension": ".py",
   "mimetype": "text/x-python",
   "name": "python",
   "nbconvert_exporter": "python",
   "pygments_lexer": "ipython3",
   "version": "3.7.9"
  }
 },
 "nbformat": 4,
 "nbformat_minor": 4
}
